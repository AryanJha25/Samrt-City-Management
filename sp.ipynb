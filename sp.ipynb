{
 "cells": [
  {
   "cell_type": "markdown",
   "id": "ae0c3c81",
   "metadata": {},
   "source": [
    "SmartParkingSystem"
   ]
  },
  {
   "cell_type": "code",
   "execution_count": 8,
   "id": "8fa56b61",
   "metadata": {},
   "outputs": [],
   "source": [
    "from supervision import BoxAnnotator\n"
   ]
  },
  {
   "cell_type": "code",
   "execution_count": 9,
   "id": "b73a9586",
   "metadata": {},
   "outputs": [],
   "source": [
    "import cv2\n",
    "import torch\n",
    "import easyocr\n",
    "import numpy as np\n",
    "from ultralytics import YOLO\n",
    "from supervision.geometry.core import Point\n",
    "from supervision.annotators.core import BoxAnnotator\n",
    "from supervision.detection.core import Detections\n",
    "\n",
    "from supervision.detection.line_zone import LineZone, LineZoneAnnotator\n",
    "from supervision.annotators.core import LabelAnnotator\n",
    "\n",
    "# from supervision.tracker.byte_track.byte_track import ByteTrack\n",
    "\n",
    "\n",
    "\n",
    "from datetime import datetime, timedelta\n",
    "import math\n",
    "import time\n",
    "import argparse # For command line arguments"
   ]
  },
  {
   "cell_type": "markdown",
   "id": "8f338b87",
   "metadata": {},
   "source": [
    "Configuration"
   ]
  },
  {
   "cell_type": "code",
   "execution_count": 36,
   "id": "2bcce57a",
   "metadata": {},
   "outputs": [],
   "source": [
    "import argparse\n",
    "import sys\n",
    "\n",
    "# Use argparse for command line arguments\n",
    "parser = argparse.ArgumentParser(description=\"Smart Parking System with YOLOv8, EasyOCR, and Tracking\")\n",
    "parser.add_argument(\"--video\", default=\"video.mp4\", help=\"Path to the input video file.\")\n",
    "parser.add_argument(\"--vehicle-model\", default=\"yolov8n.pt\", help=\"Path to the YOLOv8 vehicle detection model.\")\n",
    "parser.add_argument(\"--plate-model\", default=None, help=\"Path to the YOLOv8 license plate detection model (optional). If not provided, a heuristic crop is used.\")\n",
    "parser.add_argument(\"--hourly-rate\", type=float, default=20.0, help=\"Hourly parking rate.\")\n",
    "parser.add_argument(\"--confidence\", type=float, default=0.3, help=\"Detection confidence threshold.\")\n",
    "parser.add_argument(\"--iou\", type=float, default=0.5, help=\"Detection IOU threshold.\")\n",
    "parser.add_argument(\"--line-y\", type=int, default=700, help=\"Y-coordinate for the horizontal entry/exit line.\")\n",
    "parser.add_argument(\"--entry-direction\", default=\"down\", choices=[\"up\", \"down\"], help=\"Direction crossing the line that signifies entry ('up' or 'down').\")\n",
    "\n",
    "# Fix: avoid error from extra Jupyter arguments\n",
    "args, _ = parser.parse_known_args()\n",
    "\n",
    "\n",
    "VIDEO_PATH = args.video\n",
    "VEHICLE_MODEL_PATH = args.vehicle_model\n",
    "PLATE_MODEL_PATH = args.plate_model\n",
    "HOURLY_RATE = args.hourly_rate\n",
    "CONFIDENCE_THRESHOLD = args.confidence\n",
    "IOU_THRESHOLD = args.iou\n",
    "LINE_Y = args.line_y # Y-coordinate of the horizontal line\n",
    "ENTRY_DIRECTION_IS_DOWN = (args.entry_direction == \"down\") # True if crossing downwards is entry\n",
    "\n"
   ]
  },
  {
   "cell_type": "markdown",
   "id": "b0800f06",
   "metadata": {},
   "source": [
    "Entry-Exit Line"
   ]
  },
  {
   "cell_type": "code",
   "execution_count": 37,
   "id": "027138b7",
   "metadata": {},
   "outputs": [],
   "source": [
    "# Define the horizontal line across the full width\n",
    "# We'll get frame width later to make it dynamic\n",
    "LINE_START = Point(0, LINE_Y)\n",
    "LINE_END = Point(0, LINE_Y) # Will update X coordinate after reading first frame"
   ]
  },
  {
   "cell_type": "markdown",
   "id": "a99db428",
   "metadata": {},
   "source": [
    "Initialize the Model and readers"
   ]
  },
  {
   "cell_type": "code",
   "execution_count": 38,
   "id": "352b05d7",
   "metadata": {},
   "outputs": [
    {
     "name": "stdout",
     "output_type": "stream",
     "text": [
      "Loading models and OCR...\n",
      "No separate plate model provided or failed to load. Using heuristic crop from vehicle bounding box for OCR.\n",
      "This method is less reliable. Consider training or providing a license plate YOLO model.\n",
      "Models and OCR loaded successfully.\n"
     ]
    }
   ],
   "source": [
    "# --- Model and Reader Initialization ---\n",
    "print(\"Loading models and OCR...\")\n",
    "try:\n",
    "    vehicle_model = YOLO(VEHICLE_MODEL_PATH)\n",
    "\n",
    "    plate_model = None\n",
    "    USE_SEPARATE_PLATE_MODEL = False\n",
    "    if PLATE_MODEL_PATH and PLATE_MODEL_PATH.lower() != 'none':\n",
    "        try:\n",
    "            plate_model = YOLO(PLATE_MODEL_PATH)\n",
    "            USE_SEPARATE_PLATE_MODEL = True\n",
    "            print(f\"Using separate plate detection model: {PLATE_MODEL_PATH}\")\n",
    "        except Exception as e:\n",
    "            print(f\"Warning: Could not load plate model from {PLATE_MODEL_PATH}: {e}. Falling back to heuristic crop.\")\n",
    "            PLATE_MODEL_PATH = None # Ensure we don't keep trying to load it\n",
    "\n",
    "    if not USE_SEPARATE_PLATE_MODEL:\n",
    "        print(\"No separate plate model provided or failed to load. Using heuristic crop from vehicle bounding box for OCR.\")\n",
    "        print(\"This method is less reliable. Consider training or providing a license plate YOLO model.\")\n",
    "\n",
    "\n",
    "    # Initialize EasyOCR reader\n",
    "    # This can take some time on the first run as it downloads models\n",
    "    reader = easyocr.Reader(['en']) # Use english language model\n",
    "    print(\"Models and OCR loaded successfully.\")\n",
    "\n",
    "except Exception as e:\n",
    "    print(f\"Error loading models or EasyOCR: {e}\")\n",
    "    print(\"Please ensure YOLOv8 models are in the correct path and EasyOCR dependencies are met.\")\n",
    "    exit()\n"
   ]
  },
  {
   "cell_type": "markdown",
   "id": "0111bf16",
   "metadata": {},
   "source": [
    "Initializing the Tracking"
   ]
  },
  {
   "cell_type": "code",
   "execution_count": null,
   "id": "21139632",
   "metadata": {},
   "outputs": [
    {
     "name": "stdout",
     "output_type": "stream",
     "text": [
      "Error initializing ByteTrack: name 'ByteTrack' is not defined. Exiting.\n"
     ]
    },
    {
     "ename": "",
     "evalue": "",
     "output_type": "error",
     "traceback": [
      "\u001b[1;31mThe Kernel crashed while executing code in the current cell or a previous cell. \n",
      "\u001b[1;31mPlease review the code in the cell(s) to identify a possible cause of the failure. \n",
      "\u001b[1;31mClick <a href='https://aka.ms/vscodeJupyterKernelCrash'>here</a> for more info. \n",
      "\u001b[1;31mView Jupyter <a href='command:jupyter.viewOutput'>log</a> for further details."
     ]
    }
   ],
   "source": [
    "# --- Tracking Initialization ---\n",
    "# ByteTrack helps maintain consistent IDs for vehicles across frames\n",
    "try:\n",
    "    tracker = ByteTrack(frame_rate=30) # Adjust frame_rate if known\n",
    "    print(\"ByteTrack tracker initialized.\")\n",
    "except ImportError:\n",
    "    print(\"Error: ByteTrack not found. Please install it using 'pip install bytetracker' or 'pip install supervision[tracker]'. Exiting.\")\n",
    "    exit()\n",
    "except Exception as e:\n",
    "     print(f\"Error initializing ByteTrack: {e}. Exiting.\")\n",
    "     exit()"
   ]
  }
 ],
 "metadata": {
  "kernelspec": {
   "display_name": "Python 3",
   "language": "python",
   "name": "python3"
  },
  "language_info": {
   "codemirror_mode": {
    "name": "ipython",
    "version": 3
   },
   "file_extension": ".py",
   "mimetype": "text/x-python",
   "name": "python",
   "nbconvert_exporter": "python",
   "pygments_lexer": "ipython3",
   "version": "3.11.6"
  }
 },
 "nbformat": 4,
 "nbformat_minor": 5
}
